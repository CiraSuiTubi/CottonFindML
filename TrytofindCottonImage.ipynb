{
 "cells": [
  {
   "cell_type": "code",
   "execution_count": null,
   "metadata": {},
   "outputs": [
    {
     "name": "stdout",
     "output_type": "stream",
     "text": [
      "11991\n",
      "Accuratezza: 0.82\n",
      "Questa classification della singola predizione \n",
      "               precision    recall  f1-score   support\n",
      "\n",
      "           0       0.82      1.00      0.90      1956\n",
      "           1       1.00      0.01      0.02       443\n",
      "\n",
      "    accuracy                           0.82      2399\n",
      "   macro avg       0.91      0.50      0.46      2399\n",
      "weighted avg       0.85      0.82      0.74      2399\n",
      "\n"
     ]
    }
   ],
   "source": [
    "import os # with function .path manipulate paths names and files names\n",
    "from PIL import Image #stands for Python Image Library\n",
    "import numpy as np #library for numbers\n",
    "from sklearn.decomposition import PCA #library with ML algorithm\n",
    "import glob #glog.glob returns a list files upon the file paths\n",
    "from library import resize_dataset_fabric, create_dataset_fabric\n",
    "import pandas as pd\n",
    "from sklearn.preprocessing import LabelEncoder, MinMaxScaler\n",
    "from sklearn.model_selection import train_test_split\n",
    "from sklearn.svm import SVC\n",
    "from sklearn.metrics import classification_report, accuracy_score\n",
    "import cv2\n",
    "\n",
    "\n",
    "# resize_dataset_fabric(\"dataset\", size=(64,64))\n",
    "dataset, labels = create_dataset_fabric(\"dataset_resized\")\n",
    "\n",
    "# print(dataset[0])\n",
    "# print(labels[1])\n",
    "print(len(dataset))\n",
    "\n",
    "pca = PCA(n_components=500)\n",
    "dataset = pca.fit_transform(dataset)\n",
    "\n",
    "print(dataset.classes_)\n",
    "\n",
    "dataset_norm = [(image - image.min()) / (image.max() - image.min()) for image in dataset]\n",
    "#print(dataset_norm[0])\n",
    "\n",
    "label_encoder = LabelEncoder()\n",
    "label_encoder.fit(labels)\n",
    "labels = label_encoder.transform(labels)\n",
    "\n",
    "X_train, X_test, y_train, y_test = train_test_split(dataset_norm, labels, random_state=30, test_size=0.2)\n",
    "\n",
    "svm = SVC(kernel='rbf')\n",
    "svm.fit(X_train, y_train)\n",
    "\n",
    "y_predict = svm.predict(X_test)\n",
    "\n",
    "accuracy = accuracy_score(y_test, y_predict)\n",
    "print(f'Accuratezza: {accuracy:.2f}')\n",
    "print(f'Questa classification della singola predizione \\n {classification_report(y_test, y_predict, digits=2)}')\n"
   ]
  },
  {
   "cell_type": "code",
   "execution_count": null,
   "metadata": {},
   "outputs": [
    {
     "name": "stdout",
     "output_type": "stream",
     "text": [
      "(12288,)\n",
      "(1, 500)\n",
      "[0]\n",
      "['cotton' 'other']\n"
     ]
    }
   ],
   "source": [
    "#import and resize image \n",
    "img = cv2.imread(\"Image.jpg\")\n",
    "res = img[0:400,0:400,:] #da:a px in x, da:a px in y, 0= 3 canali rgb\n",
    "resized_up = cv2.resize(res, (64,64), interpolation= cv2.INTER_LINEAR)\n",
    "resized_up = resized_up.flatten()\n",
    "print(resized_up.shape)\n",
    "\n",
    "\n",
    "resized_up = pca.transform([resized_up])\n",
    "\n",
    "resized_up = resized_up / 255.0\n",
    "# resized_up = [(resized_up - resized_up.min()) / (resized_up.max() - resized_up.min())]\n",
    "\n",
    "print(resized_up.shape)\n",
    "\n",
    "y_predict = svm.predict(resized_up)\n",
    "\n",
    "print(y_predict)\n",
    "\n",
    "print(label_encoder.classes_)\n",
    "\n"
   ]
  }
 ],
 "metadata": {
  "kernelspec": {
   "display_name": "Python 3",
   "language": "python",
   "name": "python3"
  },
  "language_info": {
   "codemirror_mode": {
    "name": "ipython",
    "version": 3
   },
   "file_extension": ".py",
   "mimetype": "text/x-python",
   "name": "python",
   "nbconvert_exporter": "python",
   "pygments_lexer": "ipython3",
   "version": "3.12.7"
  }
 },
 "nbformat": 4,
 "nbformat_minor": 2
}
