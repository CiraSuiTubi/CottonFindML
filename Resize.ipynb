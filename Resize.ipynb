{
 "cells": [
  {
   "cell_type": "code",
   "execution_count": 1,
   "metadata": {},
   "outputs": [
    {
     "name": "stdout",
     "output_type": "stream",
     "text": [
      "(64, 64)\n",
      "<class 'PIL.Image.Image'>\n"
     ]
    }
   ],
   "source": [
    "# from PIL import Image\n",
    "\n",
    "# with Image.open(\"Image.jpg\") as im:\n",
    "\n",
    "#     # The crop method from the Image module takes four coordinates as input.\n",
    "#     # The right can also be represented as (left+width)\n",
    "#     # and lower can be represented as (upper+height).\n",
    "#     (left, upper, right, lower) = (64, 64, 64, 64)\n",
    "\n",
    "#     # Here the image \"im\" is cropped and assigned to new variable im_crop\n",
    "#     im_crop = im.crop((left, upper, right, lower))\n",
    "\n",
    "# im_crop.save(\"resized_image.png\")\n",
    "\n",
    "# im_crop.show()\n",
    "\n",
    "\n",
    "\n",
    "# Importing Image class from PIL module\n",
    "from PIL import Image\n",
    " \n",
    "# Opens a image in RGB mode\n",
    "im = Image.open(r\"Image.jpg\")\n",
    " \n",
    "# Setting the points for cropped image\n",
    "left = 155\n",
    "top = 65\n",
    "right = 360\n",
    "bottom = 270\n",
    " \n",
    "# Cropped image of above dimension\n",
    "# (It will not change original image)\n",
    "im1 = im.crop((left, top, right, bottom))\n",
    "im1 = im.resize((64,64))\n",
    "im1.save(\"resized_image.png\")\n",
    " \n",
    "# Shows the image in image viewer\n",
    "im1.show()\n",
    "print(im1.size)\n",
    "print(type(im1))"
   ]
  }
 ],
 "metadata": {
  "kernelspec": {
   "display_name": "Python 3",
   "language": "python",
   "name": "python3"
  },
  "language_info": {
   "codemirror_mode": {
    "name": "ipython",
    "version": 3
   },
   "file_extension": ".py",
   "mimetype": "text/x-python",
   "name": "python",
   "nbconvert_exporter": "python",
   "pygments_lexer": "ipython3",
   "version": "3.12.7"
  }
 },
 "nbformat": 4,
 "nbformat_minor": 2
}
