import os # with function .path manipulate paths names and files names
from PIL import Image #stands for Python Image Library
import numpy as np #library for numbers
from sklearn.decomposition import PCA #library with ML algorithm
import glob #glog.glob returns a list files upon the file paths
from library import resize_dataset_fabric, create_dataset_fabric
import pandas as pd
from sklearn.preprocessing import LabelEncoder, MinMaxScaler
from sklearn.model_selection import train_test_split
from sklearn.svm import SVC
from sklearn.tree import DecisionTreeClassifier
from sklearn.metrics import classification_report, accuracy_score

#resize_dataset_fabric("dataset", size=(64,64))
dataset, labels = create_dataset_fabric("dataset_resized")

# print(dataset[0])
print(labels[0])
#print(len(dataset))

pca = PCA(n_components=500)
dataset = pca.fit_transform(dataset)

dataset_norm = [(image - image.min()) / (image.max() - image.min()) for image in dataset]
#print(dataset_norm[0])

label_encoder = LabelEncoder()
label_encoder.fit(labels)
labels = label_encoder.transform(labels)


X_train, X_test, y_train, y_test = train_test_split(dataset_norm, labels, random_state=30, test_size=0.2)

model_dtc = DecisionTreeClassifier()
model_dtc.fit(X_train, y_train)


y_predict = model_dtc.predict(X_test)

accuracy = accuracy_score(y_test, y_predict)
print(f'Accuracy{accuracy:.2f}')
print(f'Questa classification della singola predizione \n {classification_report(y_test, y_predict, digits=2)}')